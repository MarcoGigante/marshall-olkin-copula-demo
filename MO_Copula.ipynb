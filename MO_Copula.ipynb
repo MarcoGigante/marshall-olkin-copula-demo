{
  "cells": [
    {
      "cell_type": "markdown",
      "metadata": {
        "id": "l_0mgGsZObq7"
      },
      "source": [
        "## Experimental Study of the Marshall–Olkin Joint Survival Function\n",
        "\n",
        "*(Lecture series by Professor Fabio Gobbi presented in the Credit Risk Modeling course, University of Siena; see Gobbi et al. 2019, 2021 for related publications.)*\n",
        "\n",
        "The following Python script reproduces an **experiment** illustrating how changes in the systemic hazard λ₁₂ affect both joint survival and joint default probabilities. All steps and formulas remain fully parameterized in terms of λ₁, λ₂, and λ₁₂.\n"
      ]
    },
    {
      "cell_type": "code",
      "execution_count": 6,
      "metadata": {
        "colab": {
          "base_uri": "https://localhost:8080/"
        },
        "id": "127rY7DgGNGN",
        "outputId": "b9c477b9-9010-4519-f64c-fd53733accce"
      },
      "outputs": [
        {
          "name": "stdout",
          "output_type": "stream",
          "text": [
            "Computed α = 0.3333, β = 0.2000\n",
            "H(3,3) = 0.5248%  # P(X>3, Y>3)\n",
            "F_X(3) = 0.894601, F_Y(3) = 0.976482\n",
            "Joint default P(X≤3, Y≤3) = 87.63%\n"
          ]
        }
      ],
      "source": [
        "import numpy as np\n",
        "\n",
        "# 1. Define the shock intensity parameters\n",
        "lambda_1  = 0.5     # idiosyncratic hazard for obligor X\n",
        "lambda_2  = 1.0     # idiosyncratic hazard for obligor Y\n",
        "lambda_12 = 0.25    # systemic hazard affecting both X and Y\n",
        "\n",
        "# 2. Marginal survival functions\n",
        "#    X ∼ Exponential(λ₁ + λ₁₂), Y ∼ Exponential(λ₂ + λ₁₂)\n",
        "def Sx(x):\n",
        "    \"\"\"\n",
        "    Marginal survival function of X:\n",
        "      Sx(x) = P(X > x) = exp[-(λ₁ + λ₁₂) x]\n",
        "    \"\"\"\n",
        "    return np.exp(-(lambda_1 + lambda_12) * x)\n",
        "\n",
        "def Sy(y):\n",
        "    \"\"\"\n",
        "    Marginal survival function of Y:\n",
        "      Sy(y) = P(Y > y) = exp[-(λ₂ + λ₁₂) y]\n",
        "    \"\"\"\n",
        "    return np.exp(-(lambda_2 + lambda_12) * y)\n",
        "\n",
        "# 3. Copula parameters α and β\n",
        "#    α = λ₁₂ / (λ₁ + λ₁₂),  β = λ₁₂ / (λ₂ + λ₁₂)\n",
        "def compute_alpha_beta(l1, l2, l12):\n",
        "    \"\"\"\n",
        "    Compute the weights of the systemic shock:\n",
        "      α = systemic / total hazard of X\n",
        "      β = systemic / total hazard of Y\n",
        "    \"\"\"\n",
        "    alpha = l12 / (l1 + l12)\n",
        "    beta  = l12 / (l2 + l12)\n",
        "    return alpha, beta\n",
        "\n",
        "alpha, beta = compute_alpha_beta(lambda_1, lambda_2, lambda_12)\n",
        "print(f\"Computed α = {alpha:.4f}, β = {beta:.4f}\")\n",
        "\n",
        "# 4. General joint survival function H(x, y)\n",
        "#    Derived from:\n",
        "#      H(x,y) = exp[-λ₁ x - λ₂ y - λ₁₂ max(x,y)]\n",
        "#    Equivalently:\n",
        "#      H(x,y) = exp[-(λ₁+λ₁₂) x - (λ₂+λ₁₂) y + λ₁₂⋅min(x,y)]\n",
        "def H(x, y):\n",
        "    \"\"\"\n",
        "    Joint survival P(X > x, Y > y):\n",
        "      = exp[-(λ₁+λ₁₂)x - (λ₂+λ₁₂)y + λ₁₂ * min(x, y)]\n",
        "    \"\"\"\n",
        "    # total hazards for marginals\n",
        "    total_hazard_x = lambda_1 + lambda_12\n",
        "    total_hazard_y = lambda_2 + lambda_12\n",
        "\n",
        "    # compute the base exponent terms\n",
        "    term_x = - total_hazard_x * x\n",
        "    term_y = - total_hazard_y * y\n",
        "\n",
        "    # add back the systemic shock contribution on the overlap\n",
        "    overlap = lambda_12 * min(x, y)\n",
        "\n",
        "    return np.exp(term_x + term_y + overlap)\n",
        "\n",
        "# 5. Example evaluation at t = 3\n",
        "t = 3.0\n",
        "joint_survival = H(t, t)\n",
        "print(f\"H(3,3) = {joint_survival*100:.4f}%  # P(X>3, Y>3)\")\n",
        "\n",
        "# 6. Marginal default probabilities F_X(3), F_Y(3)\n",
        "Fx_t = 1 - Sx(t)\n",
        "Fy_t = 1 - Sy(t)\n",
        "print(f\"F_X(3) = {Fx_t:.6f}, F_Y(3) = {Fy_t:.6f}\")\n",
        "\n",
        "# 7. Joint default probability via inclusion–exclusion\n",
        "#    P(X ≤ t, Y ≤ t) = 1 - Sx(t) - Sy(t) + H(t,t)\n",
        "joint_default = 1 - Sx(t) - Sy(t) + joint_survival\n",
        "print(f\"Joint default P(X≤3, Y≤3) = {joint_default*100:.2f}%\")\n"
      ]
    },
    {
      "cell_type": "markdown",
      "metadata": {
        "id": "SpJ6d8Y7PqcW"
      },
      "source": [
        "## Steps\n",
        "\n",
        "1. **Parameters**  \n",
        "   – λ₁, λ₂ are the idiosyncratic hazard rates for obligors X and Y.  \n",
        "   – λ₁₂ is the systemic hazard rate that can simultaneously terminate both lifetimes.\n",
        "\n",
        "2. **Marginals**  \n",
        "   Each obligor’s lifetime is the minimum of its idiosyncratic shock and the systemic shock.  Thus  \n",
        "   $$\n",
        "     S_X(x) = e^{-(\\lambda_1 + \\lambda_{12})\\,x},\\quad\n",
        "     S_Y(y) = e^{-(\\lambda_2 + \\lambda_{12})\\,y}.\n",
        "   $$\n",
        "\n",
        "3. **Copula Weights**  \n",
        "   $$\\alpha$$ and $$\\beta$$ measure the proportion of each obligor’s total hazard attributable to the systemic shock:\n",
        "   $$\n",
        "     \\alpha = \\frac{\\lambda_{12}}{\\lambda_1 + \\lambda_{12}},\\quad\n",
        "     \\beta  = \\frac{\\lambda_{12}}{\\lambda_2 + \\lambda_{12}}.\n",
        "   $$\n",
        "\n",
        "4. **Joint Survival Function**  \n",
        "   The bivariate survival is\n",
        "   $$\n",
        "     H(x,y)\n",
        "     = \\exp\\bigl[-\\lambda_1 x - \\lambda_2 y - \\lambda_{12}\\max(x,y)\\bigr]\n",
        "     = \\exp\\bigl[-(\\lambda_1+\\lambda_{12})x -(\\lambda_2+\\lambda_{12})y + \\lambda_{12}\\min(x,y)\\bigr].\n",
        "   $$\n",
        "   The implementation uses this unified formula to avoid any hard-coded numeric exponents.\n",
        "\n",
        "5. **Numerical Example**  \n",
        "   With $$t = 3$$:\n",
        "   - Joint survival $$H(3,3)\\approx0.5248\\%$$.  \n",
        "   - Marginal defaults $$F_X(3)\\approx0.894601$$, $$F_Y(3)\\approx0.976482$$.  \n",
        "   - Joint default $$P(X{\\le}3,Y{\\le}3)\\approx87.63\\%$$.\n",
        "\n",
        "In this experiment, the objective is to investigate how variations in the systemic hazard λ₁₂ affect the probability that both obligors either survive beyond a fixed time or default by that time.\n",
        "\n",
        "**References**  \n",
        "- Gobbi, F., Kolev, N., & Mulinacci, S. (2019). *Joint Life Insurance Pricing Using Extended Marshall–Olkin Models*. ASTIN Bulletin, 49(2), 409–432.  \n",
        "- Gobbi, F., Kolev, N., & Mulinacci, S. (2021). *Ryu-type Extended Marshall–Olkin Model with Implicit Shocks and Joint Life Insurance Applications*. Insurance: Mathematics and Economics, 98, 141–154."
      ]
    }
  ],
  "metadata": {
    "colab": {
      "provenance": []
    },
    "kernelspec": {
      "display_name": "Python 3",
      "name": "python3"
    },
    "language_info": {
      "name": "python"
    }
  },
  "nbformat": 4,
  "nbformat_minor": 0
}
